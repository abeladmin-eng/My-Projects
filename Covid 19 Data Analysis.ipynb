{
 "cells": [
  {
   "cell_type": "markdown",
   "metadata": {},
   "source": [
    "Covid 19 Data Analysis\n",
    "How Concerned Are Americans About the Coronavirus?\n",
    "This is my first project based on data downloaded from https://data.fivethirtyeight.com/ or https://github.com/fivethirtyeight/covid-19-polls\n",
    "on the night of 20 December 2020 - two days after it was uploaded on the web\n",
    "While the above is the overall topic of this analysis, it is broken into 2 parts:\n",
    "a) whether or not Americans approve the way Trump is handling covid 19; and\n",
    "b) how concerned they feel about aspects of the outbreak such as infection and economic impact."
   ]
  },
  {
   "cell_type": "code",
   "execution_count": 1,
   "metadata": {},
   "outputs": [],
   "source": [
    "import pandas as pd\n",
    "from pandas import Series,DataFrame\n",
    "import numpy as np\n",
    "import matplotlib.pyplot as plt\n",
    "import seaborn as sns\n",
    "%matplotlib inline"
   ]
  },
  {
   "cell_type": "markdown",
   "metadata": {},
   "source": [
    "Questions (tasks) (will add more as I develop):\n",
    "o What are the parties of the respondents?\n",
    "o Does their party affiliation affect their response?\n",
    "o Is there any trend?\n",
    "o Analyse the approval and disapproval responses in total and in relation to different criteria eg party, pollster and sponsor\n",
    "o Visualise as much as possible\n"
   ]
  },
  {
   "cell_type": "code",
   "execution_count": 2,
   "metadata": {},
   "outputs": [],
   "source": [
    "#After downloarding the data, this is to read it into a data from which I call covdf\n",
    "covidf=pd.read_csv('covid_approval_polls.csv')\n",
    "#The file read here contains polls that ask Americans whether or not they approve of the way Trump is handling covid-19."
   ]
  },
  {
   "cell_type": "code",
   "execution_count": 3,
   "metadata": {},
   "outputs": [
    {
     "name": "stdout",
     "output_type": "stream",
     "text": [
      "<class 'pandas.core.frame.DataFrame'>\n",
      "RangeIndex: 2137 entries, 0 to 2136\n",
      "Data columns (total 13 columns):\n",
      "start_date     2137 non-null object\n",
      "end_date       2137 non-null object\n",
      "pollster       2137 non-null object\n",
      "sponsor        1039 non-null object\n",
      "sample_size    2124 non-null float64\n",
      "population     2137 non-null object\n",
      "party          2137 non-null object\n",
      "subject        2137 non-null object\n",
      "tracking       2130 non-null object\n",
      "text           2136 non-null object\n",
      "approve        2134 non-null float64\n",
      "disapprove     2122 non-null float64\n",
      "url            2137 non-null object\n",
      "dtypes: float64(3), object(10)\n",
      "memory usage: 217.1+ KB\n"
     ]
    }
   ],
   "source": [
    "covidf.info()"
   ]
  },
  {
   "cell_type": "code",
   "execution_count": 4,
   "metadata": {},
   "outputs": [
    {
     "data": {
      "text/html": [
       "<div>\n",
       "<style scoped>\n",
       "    .dataframe tbody tr th:only-of-type {\n",
       "        vertical-align: middle;\n",
       "    }\n",
       "\n",
       "    .dataframe tbody tr th {\n",
       "        vertical-align: top;\n",
       "    }\n",
       "\n",
       "    .dataframe thead th {\n",
       "        text-align: right;\n",
       "    }\n",
       "</style>\n",
       "<table border=\"1\" class=\"dataframe\">\n",
       "  <thead>\n",
       "    <tr style=\"text-align: right;\">\n",
       "      <th></th>\n",
       "      <th>start_date</th>\n",
       "      <th>end_date</th>\n",
       "      <th>pollster</th>\n",
       "      <th>sponsor</th>\n",
       "      <th>sample_size</th>\n",
       "      <th>population</th>\n",
       "      <th>party</th>\n",
       "      <th>subject</th>\n",
       "      <th>tracking</th>\n",
       "      <th>text</th>\n",
       "      <th>approve</th>\n",
       "      <th>disapprove</th>\n",
       "      <th>url</th>\n",
       "    </tr>\n",
       "  </thead>\n",
       "  <tbody>\n",
       "    <tr>\n",
       "      <th>0</th>\n",
       "      <td>2020-02-02</td>\n",
       "      <td>2020-02-04</td>\n",
       "      <td>YouGov</td>\n",
       "      <td>Economist</td>\n",
       "      <td>1500.0</td>\n",
       "      <td>a</td>\n",
       "      <td>all</td>\n",
       "      <td>Trump</td>\n",
       "      <td>False</td>\n",
       "      <td>Do you approve or disapprove of Donald Trump’s...</td>\n",
       "      <td>42.0</td>\n",
       "      <td>29.0</td>\n",
       "      <td>https://d25d2506sfb94s.cloudfront.net/cumulus_...</td>\n",
       "    </tr>\n",
       "    <tr>\n",
       "      <th>1</th>\n",
       "      <td>2020-02-02</td>\n",
       "      <td>2020-02-04</td>\n",
       "      <td>YouGov</td>\n",
       "      <td>Economist</td>\n",
       "      <td>376.0</td>\n",
       "      <td>a</td>\n",
       "      <td>R</td>\n",
       "      <td>Trump</td>\n",
       "      <td>False</td>\n",
       "      <td>Do you approve or disapprove of Donald Trump’s...</td>\n",
       "      <td>75.0</td>\n",
       "      <td>6.0</td>\n",
       "      <td>https://d25d2506sfb94s.cloudfront.net/cumulus_...</td>\n",
       "    </tr>\n",
       "  </tbody>\n",
       "</table>\n",
       "</div>"
      ],
      "text/plain": [
       "   start_date    end_date pollster    sponsor  sample_size population party  \\\n",
       "0  2020-02-02  2020-02-04   YouGov  Economist       1500.0          a   all   \n",
       "1  2020-02-02  2020-02-04   YouGov  Economist        376.0          a     R   \n",
       "\n",
       "  subject tracking                                               text  \\\n",
       "0   Trump    False  Do you approve or disapprove of Donald Trump’s...   \n",
       "1   Trump    False  Do you approve or disapprove of Donald Trump’s...   \n",
       "\n",
       "   approve  disapprove                                                url  \n",
       "0     42.0        29.0  https://d25d2506sfb94s.cloudfront.net/cumulus_...  \n",
       "1     75.0         6.0  https://d25d2506sfb94s.cloudfront.net/cumulus_...  "
      ]
     },
     "execution_count": 4,
     "metadata": {},
     "output_type": "execute_result"
    }
   ],
   "source": [
    "#Reading the first 3 records\n",
    "covidf.head(2)"
   ]
  },
  {
   "cell_type": "code",
   "execution_count": 5,
   "metadata": {},
   "outputs": [
    {
     "data": {
      "text/plain": [
       "<seaborn.axisgrid.FacetGrid at 0x22e15bb6e80>"
      ]
     },
     "execution_count": 5,
     "metadata": {},
     "output_type": "execute_result"
    },
    {
     "data": {
      "image/png": "[encoded data removed]",
      "text/plain": [
       "<Figure size 360x360 with 1 Axes>"
      ]
     },
     "metadata": {
      "needs_background": "light"
     },
     "output_type": "display_data"
    }
   ],
   "source": [
    "#Respondents as to party affiliation\n",
    "sns.catplot(x='party',data=covidf, kind='count')"
   ]
  },
  {
   "cell_type": "code",
   "execution_count": null,
   "metadata": {},
   "outputs": [],
   "source": []
  },
  {
   "cell_type": "code",
   "execution_count": 6,
   "metadata": {},
   "outputs": [
    {
     "data": {
      "text/html": [
       "<div>\n",
       "<style scoped>\n",
       "    .dataframe tbody tr th:only-of-type {\n",
       "        vertical-align: middle;\n",
       "    }\n",
       "\n",
       "    .dataframe tbody tr th {\n",
       "        vertical-align: top;\n",
       "    }\n",
       "\n",
       "    .dataframe thead th {\n",
       "        text-align: right;\n",
       "    }\n",
       "</style>\n",
       "<table border=\"1\" class=\"dataframe\">\n",
       "  <thead>\n",
       "    <tr style=\"text-align: right;\">\n",
       "      <th></th>\n",
       "      <th>start_date</th>\n",
       "      <th>end_date</th>\n",
       "      <th>pollster</th>\n",
       "      <th>sponsor</th>\n",
       "      <th>sample_size</th>\n",
       "      <th>population</th>\n",
       "      <th>subject</th>\n",
       "      <th>tracking</th>\n",
       "      <th>text</th>\n",
       "      <th>approve</th>\n",
       "      <th>disapprove</th>\n",
       "      <th>url</th>\n",
       "    </tr>\n",
       "    <tr>\n",
       "      <th>party</th>\n",
       "      <th></th>\n",
       "      <th></th>\n",
       "      <th></th>\n",
       "      <th></th>\n",
       "      <th></th>\n",
       "      <th></th>\n",
       "      <th></th>\n",
       "      <th></th>\n",
       "      <th></th>\n",
       "      <th></th>\n",
       "      <th></th>\n",
       "      <th></th>\n",
       "    </tr>\n",
       "  </thead>\n",
       "  <tbody>\n",
       "    <tr>\n",
       "      <th>D</th>\n",
       "      <td>505</td>\n",
       "      <td>505</td>\n",
       "      <td>505</td>\n",
       "      <td>240</td>\n",
       "      <td>501</td>\n",
       "      <td>505</td>\n",
       "      <td>505</td>\n",
       "      <td>503</td>\n",
       "      <td>505</td>\n",
       "      <td>504</td>\n",
       "      <td>499</td>\n",
       "      <td>505</td>\n",
       "    </tr>\n",
       "    <tr>\n",
       "      <th>I</th>\n",
       "      <td>475</td>\n",
       "      <td>475</td>\n",
       "      <td>475</td>\n",
       "      <td>233</td>\n",
       "      <td>470</td>\n",
       "      <td>475</td>\n",
       "      <td>475</td>\n",
       "      <td>475</td>\n",
       "      <td>475</td>\n",
       "      <td>474</td>\n",
       "      <td>472</td>\n",
       "      <td>475</td>\n",
       "    </tr>\n",
       "    <tr>\n",
       "      <th>R</th>\n",
       "      <td>505</td>\n",
       "      <td>505</td>\n",
       "      <td>505</td>\n",
       "      <td>240</td>\n",
       "      <td>501</td>\n",
       "      <td>505</td>\n",
       "      <td>505</td>\n",
       "      <td>503</td>\n",
       "      <td>505</td>\n",
       "      <td>504</td>\n",
       "      <td>499</td>\n",
       "      <td>505</td>\n",
       "    </tr>\n",
       "    <tr>\n",
       "      <th>all</th>\n",
       "      <td>652</td>\n",
       "      <td>652</td>\n",
       "      <td>652</td>\n",
       "      <td>326</td>\n",
       "      <td>652</td>\n",
       "      <td>652</td>\n",
       "      <td>652</td>\n",
       "      <td>649</td>\n",
       "      <td>651</td>\n",
       "      <td>652</td>\n",
       "      <td>652</td>\n",
       "      <td>652</td>\n",
       "    </tr>\n",
       "  </tbody>\n",
       "</table>\n",
       "</div>"
      ],
      "text/plain": [
       "       start_date  end_date  pollster  sponsor  sample_size  population  \\\n",
       "party                                                                     \n",
       "D             505       505       505      240          501         505   \n",
       "I             475       475       475      233          470         475   \n",
       "R             505       505       505      240          501         505   \n",
       "all           652       652       652      326          652         652   \n",
       "\n",
       "       subject  tracking  text  approve  disapprove  url  \n",
       "party                                                     \n",
       "D          505       503   505      504         499  505  \n",
       "I          475       475   475      474         472  475  \n",
       "R          505       503   505      504         499  505  \n",
       "all        652       649   651      652         652  652  "
      ]
     },
     "execution_count": 6,
     "metadata": {},
     "output_type": "execute_result"
    }
   ],
   "source": [
    "covidf.groupby('party').count()"
   ]
  },
  {
   "cell_type": "code",
   "execution_count": 7,
   "metadata": {},
   "outputs": [
    {
     "name": "stderr",
     "output_type": "stream",
     "text": [
      "C:\\Users\\abelu\\Anaconda3\\lib\\site-packages\\scipy\\stats\\stats.py:1713: FutureWarning: Using a non-tuple sequence for multidimensional indexing is deprecated; use `arr[tuple(seq)]` instead of `arr[seq]`. In the future this will be interpreted as an array index, `arr[np.array(seq)]`, which will result either in an error or a different result.\n",
      "  return np.add.reduce(sorted[indexer] * weights, axis=axis) / sumval\n"
     ]
    },
    {
     "data": {
      "text/plain": [
       "<seaborn.axisgrid.FacetGrid at 0x22e15e0e160>"
      ]
     },
     "execution_count": 7,
     "metadata": {},
     "output_type": "execute_result"
    },
    {
     "data": {
      "image/png": "[encoded data removed]",
      "text/plain": [
       "<Figure size 407.875x360 with 1 Axes>"
      ]
     },
     "metadata": {
      "needs_background": "light"
     },
     "output_type": "display_data"
    }
   ],
   "source": [
    "#Trying to determine the relationship between approval and sample size with regards to each party\n",
    "sns.lmplot(x='sample_size',y='approve', data=covidf,hue='party')"
   ]
  },
  {
   "cell_type": "code",
   "execution_count": 8,
   "metadata": {},
   "outputs": [
    {
     "data": {
      "text/plain": [
       "<seaborn.axisgrid.FacetGrid at 0x22e16e44128>"
      ]
     },
     "execution_count": 8,
     "metadata": {},
     "output_type": "execute_result"
    },
    {
     "data": {
      "image/png": "[encoded data removed]",
      "text/plain": [
       "<Figure size 407.875x360 with 1 Axes>"
      ]
     },
     "metadata": {
      "needs_background": "light"
     },
     "output_type": "display_data"
    }
   ],
   "source": [
    "#Trying to determine the relationship between disapproval and sample size with regards to each party\n",
    "sns.lmplot('sample_size','disapprove',covidf, hue='party')"
   ]
  },
  {
   "cell_type": "code",
   "execution_count": 9,
   "metadata": {},
   "outputs": [],
   "source": [
    "#Aha, the subject attribute (column) marks whose handling of covid-19 the approval poll is about.  In this case it is Trump.  Therefore every row on this column carries the same value."
   ]
  },
  {
   "cell_type": "code",
   "execution_count": 10,
   "metadata": {},
   "outputs": [
    {
     "data": {
      "text/html": [
       "<div>\n",
       "<style scoped>\n",
       "    .dataframe tbody tr th:only-of-type {\n",
       "        vertical-align: middle;\n",
       "    }\n",
       "\n",
       "    .dataframe tbody tr th {\n",
       "        vertical-align: top;\n",
       "    }\n",
       "\n",
       "    .dataframe thead th {\n",
       "        text-align: right;\n",
       "    }\n",
       "</style>\n",
       "<table border=\"1\" class=\"dataframe\">\n",
       "  <thead>\n",
       "    <tr style=\"text-align: right;\">\n",
       "      <th></th>\n",
       "      <th>start_date</th>\n",
       "      <th>end_date</th>\n",
       "      <th>pollster</th>\n",
       "      <th>sponsor</th>\n",
       "      <th>sample_size</th>\n",
       "      <th>party</th>\n",
       "      <th>subject</th>\n",
       "      <th>tracking</th>\n",
       "      <th>text</th>\n",
       "      <th>approve</th>\n",
       "      <th>disapprove</th>\n",
       "      <th>url</th>\n",
       "    </tr>\n",
       "    <tr>\n",
       "      <th>population</th>\n",
       "      <th></th>\n",
       "      <th></th>\n",
       "      <th></th>\n",
       "      <th></th>\n",
       "      <th></th>\n",
       "      <th></th>\n",
       "      <th></th>\n",
       "      <th></th>\n",
       "      <th></th>\n",
       "      <th></th>\n",
       "      <th></th>\n",
       "      <th></th>\n",
       "    </tr>\n",
       "  </thead>\n",
       "  <tbody>\n",
       "    <tr>\n",
       "      <th>a</th>\n",
       "      <td>1339</td>\n",
       "      <td>1339</td>\n",
       "      <td>1339</td>\n",
       "      <td>667</td>\n",
       "      <td>1338</td>\n",
       "      <td>1339</td>\n",
       "      <td>1339</td>\n",
       "      <td>1338</td>\n",
       "      <td>1339</td>\n",
       "      <td>1339</td>\n",
       "      <td>1324</td>\n",
       "      <td>1339</td>\n",
       "    </tr>\n",
       "    <tr>\n",
       "      <th>lv</th>\n",
       "      <td>96</td>\n",
       "      <td>96</td>\n",
       "      <td>96</td>\n",
       "      <td>40</td>\n",
       "      <td>93</td>\n",
       "      <td>96</td>\n",
       "      <td>96</td>\n",
       "      <td>96</td>\n",
       "      <td>95</td>\n",
       "      <td>96</td>\n",
       "      <td>96</td>\n",
       "      <td>96</td>\n",
       "    </tr>\n",
       "    <tr>\n",
       "      <th>rv</th>\n",
       "      <td>702</td>\n",
       "      <td>702</td>\n",
       "      <td>702</td>\n",
       "      <td>332</td>\n",
       "      <td>693</td>\n",
       "      <td>702</td>\n",
       "      <td>702</td>\n",
       "      <td>696</td>\n",
       "      <td>702</td>\n",
       "      <td>699</td>\n",
       "      <td>702</td>\n",
       "      <td>702</td>\n",
       "    </tr>\n",
       "  </tbody>\n",
       "</table>\n",
       "</div>"
      ],
      "text/plain": [
       "            start_date  end_date  pollster  sponsor  sample_size  party  \\\n",
       "population                                                                \n",
       "a                 1339      1339      1339      667         1338   1339   \n",
       "lv                  96        96        96       40           93     96   \n",
       "rv                 702       702       702      332          693    702   \n",
       "\n",
       "            subject  tracking  text  approve  disapprove   url  \n",
       "population                                                      \n",
       "a              1339      1338  1339     1339        1324  1339  \n",
       "lv               96        96    95       96          96    96  \n",
       "rv              702       696   702      699         702   702  "
      ]
     },
     "execution_count": 10,
     "metadata": {},
     "output_type": "execute_result"
    }
   ],
   "source": [
    "covidf.groupby('population').count()"
   ]
  },
  {
   "cell_type": "markdown",
   "metadata": {},
   "source": [
    "Population: 1 = adults; lv = likely voters; rv = registered voters"
   ]
  },
  {
   "cell_type": "code",
   "execution_count": 11,
   "metadata": {},
   "outputs": [
    {
     "data": {
      "text/html": [
       "<div>\n",
       "<style scoped>\n",
       "    .dataframe tbody tr th:only-of-type {\n",
       "        vertical-align: middle;\n",
       "    }\n",
       "\n",
       "    .dataframe tbody tr th {\n",
       "        vertical-align: top;\n",
       "    }\n",
       "\n",
       "    .dataframe thead th {\n",
       "        text-align: right;\n",
       "    }\n",
       "</style>\n",
       "<table border=\"1\" class=\"dataframe\">\n",
       "  <thead>\n",
       "    <tr style=\"text-align: right;\">\n",
       "      <th></th>\n",
       "      <th>start_date</th>\n",
       "      <th>end_date</th>\n",
       "      <th>pollster</th>\n",
       "      <th>sample_size</th>\n",
       "      <th>population</th>\n",
       "      <th>party</th>\n",
       "      <th>subject</th>\n",
       "      <th>tracking</th>\n",
       "      <th>text</th>\n",
       "      <th>approve</th>\n",
       "      <th>disapprove</th>\n",
       "      <th>url</th>\n",
       "    </tr>\n",
       "    <tr>\n",
       "      <th>sponsor</th>\n",
       "      <th></th>\n",
       "      <th></th>\n",
       "      <th></th>\n",
       "      <th></th>\n",
       "      <th></th>\n",
       "      <th></th>\n",
       "      <th></th>\n",
       "      <th></th>\n",
       "      <th></th>\n",
       "      <th></th>\n",
       "      <th></th>\n",
       "      <th></th>\n",
       "    </tr>\n",
       "  </thead>\n",
       "  <tbody>\n",
       "    <tr>\n",
       "      <th>314 Action</th>\n",
       "      <td>1</td>\n",
       "      <td>1</td>\n",
       "      <td>1</td>\n",
       "      <td>1</td>\n",
       "      <td>1</td>\n",
       "      <td>1</td>\n",
       "      <td>1</td>\n",
       "      <td>1</td>\n",
       "      <td>1</td>\n",
       "      <td>1</td>\n",
       "      <td>1</td>\n",
       "      <td>1</td>\n",
       "    </tr>\n",
       "    <tr>\n",
       "      <th>ABC</th>\n",
       "      <td>1</td>\n",
       "      <td>1</td>\n",
       "      <td>1</td>\n",
       "      <td>1</td>\n",
       "      <td>1</td>\n",
       "      <td>1</td>\n",
       "      <td>1</td>\n",
       "      <td>1</td>\n",
       "      <td>1</td>\n",
       "      <td>1</td>\n",
       "      <td>1</td>\n",
       "      <td>1</td>\n",
       "    </tr>\n",
       "  </tbody>\n",
       "</table>\n",
       "</div>"
      ],
      "text/plain": [
       "            start_date  end_date  pollster  sample_size  population  party  \\\n",
       "sponsor                                                                      \n",
       "314 Action           1         1         1            1           1      1   \n",
       "ABC                  1         1         1            1           1      1   \n",
       "\n",
       "            subject  tracking  text  approve  disapprove  url  \n",
       "sponsor                                                        \n",
       "314 Action        1         1     1        1           1    1  \n",
       "ABC               1         1     1        1           1    1  "
      ]
     },
     "execution_count": 11,
     "metadata": {},
     "output_type": "execute_result"
    }
   ],
   "source": [
    "covidf.groupby('sponsor').count().head(2)"
   ]
  },
  {
   "cell_type": "code",
   "execution_count": 12,
   "metadata": {},
   "outputs": [
    {
     "data": {
      "text/html": [
       "<div>\n",
       "<style scoped>\n",
       "    .dataframe tbody tr th:only-of-type {\n",
       "        vertical-align: middle;\n",
       "    }\n",
       "\n",
       "    .dataframe tbody tr th {\n",
       "        vertical-align: top;\n",
       "    }\n",
       "\n",
       "    .dataframe thead th {\n",
       "        text-align: right;\n",
       "    }\n",
       "</style>\n",
       "<table border=\"1\" class=\"dataframe\">\n",
       "  <thead>\n",
       "    <tr style=\"text-align: right;\">\n",
       "      <th></th>\n",
       "      <th>start_date</th>\n",
       "      <th>end_date</th>\n",
       "      <th>sponsor</th>\n",
       "      <th>sample_size</th>\n",
       "      <th>population</th>\n",
       "      <th>party</th>\n",
       "      <th>subject</th>\n",
       "      <th>tracking</th>\n",
       "      <th>text</th>\n",
       "      <th>approve</th>\n",
       "      <th>disapprove</th>\n",
       "      <th>url</th>\n",
       "    </tr>\n",
       "    <tr>\n",
       "      <th>pollster</th>\n",
       "      <th></th>\n",
       "      <th></th>\n",
       "      <th></th>\n",
       "      <th></th>\n",
       "      <th></th>\n",
       "      <th></th>\n",
       "      <th></th>\n",
       "      <th></th>\n",
       "      <th></th>\n",
       "      <th></th>\n",
       "      <th></th>\n",
       "      <th></th>\n",
       "    </tr>\n",
       "  </thead>\n",
       "  <tbody>\n",
       "    <tr>\n",
       "      <th>ABC</th>\n",
       "      <td>21</td>\n",
       "      <td>21</td>\n",
       "      <td>4</td>\n",
       "      <td>21</td>\n",
       "      <td>21</td>\n",
       "      <td>21</td>\n",
       "      <td>21</td>\n",
       "      <td>21</td>\n",
       "      <td>21</td>\n",
       "      <td>21</td>\n",
       "      <td>21</td>\n",
       "      <td>21</td>\n",
       "    </tr>\n",
       "    <tr>\n",
       "      <th>AP-NORC</th>\n",
       "      <td>23</td>\n",
       "      <td>23</td>\n",
       "      <td>0</td>\n",
       "      <td>23</td>\n",
       "      <td>23</td>\n",
       "      <td>23</td>\n",
       "      <td>23</td>\n",
       "      <td>23</td>\n",
       "      <td>23</td>\n",
       "      <td>23</td>\n",
       "      <td>17</td>\n",
       "      <td>23</td>\n",
       "    </tr>\n",
       "  </tbody>\n",
       "</table>\n",
       "</div>"
      ],
      "text/plain": [
       "          start_date  end_date  sponsor  sample_size  population  party  \\\n",
       "pollster                                                                  \n",
       "ABC               21        21        4           21          21     21   \n",
       "AP-NORC           23        23        0           23          23     23   \n",
       "\n",
       "          subject  tracking  text  approve  disapprove  url  \n",
       "pollster                                                     \n",
       "ABC            21        21    21       21          21   21  \n",
       "AP-NORC        23        23    23       23          17   23  "
      ]
     },
     "execution_count": 12,
     "metadata": {},
     "output_type": "execute_result"
    }
   ],
   "source": [
    "covidf.groupby('pollster').count().head(2)"
   ]
  },
  {
   "cell_type": "code",
   "execution_count": 13,
   "metadata": {},
   "outputs": [],
   "source": [
    "p=covidf.groupby('party').count()"
   ]
  },
  {
   "cell_type": "code",
   "execution_count": 14,
   "metadata": {},
   "outputs": [
    {
     "data": {
      "text/html": [
       "<div>\n",
       "<style scoped>\n",
       "    .dataframe tbody tr th:only-of-type {\n",
       "        vertical-align: middle;\n",
       "    }\n",
       "\n",
       "    .dataframe tbody tr th {\n",
       "        vertical-align: top;\n",
       "    }\n",
       "\n",
       "    .dataframe thead th {\n",
       "        text-align: right;\n",
       "    }\n",
       "</style>\n",
       "<table border=\"1\" class=\"dataframe\">\n",
       "  <thead>\n",
       "    <tr style=\"text-align: right;\">\n",
       "      <th></th>\n",
       "      <th>start_date</th>\n",
       "      <th>end_date</th>\n",
       "      <th>pollster</th>\n",
       "      <th>sponsor</th>\n",
       "      <th>sample_size</th>\n",
       "      <th>population</th>\n",
       "      <th>subject</th>\n",
       "      <th>tracking</th>\n",
       "      <th>text</th>\n",
       "      <th>approve</th>\n",
       "      <th>disapprove</th>\n",
       "      <th>url</th>\n",
       "    </tr>\n",
       "    <tr>\n",
       "      <th>party</th>\n",
       "      <th></th>\n",
       "      <th></th>\n",
       "      <th></th>\n",
       "      <th></th>\n",
       "      <th></th>\n",
       "      <th></th>\n",
       "      <th></th>\n",
       "      <th></th>\n",
       "      <th></th>\n",
       "      <th></th>\n",
       "      <th></th>\n",
       "      <th></th>\n",
       "    </tr>\n",
       "  </thead>\n",
       "  <tbody>\n",
       "    <tr>\n",
       "      <th>D</th>\n",
       "      <td>505</td>\n",
       "      <td>505</td>\n",
       "      <td>505</td>\n",
       "      <td>240</td>\n",
       "      <td>501</td>\n",
       "      <td>505</td>\n",
       "      <td>505</td>\n",
       "      <td>503</td>\n",
       "      <td>505</td>\n",
       "      <td>504</td>\n",
       "      <td>499</td>\n",
       "      <td>505</td>\n",
       "    </tr>\n",
       "    <tr>\n",
       "      <th>I</th>\n",
       "      <td>475</td>\n",
       "      <td>475</td>\n",
       "      <td>475</td>\n",
       "      <td>233</td>\n",
       "      <td>470</td>\n",
       "      <td>475</td>\n",
       "      <td>475</td>\n",
       "      <td>475</td>\n",
       "      <td>475</td>\n",
       "      <td>474</td>\n",
       "      <td>472</td>\n",
       "      <td>475</td>\n",
       "    </tr>\n",
       "    <tr>\n",
       "      <th>R</th>\n",
       "      <td>505</td>\n",
       "      <td>505</td>\n",
       "      <td>505</td>\n",
       "      <td>240</td>\n",
       "      <td>501</td>\n",
       "      <td>505</td>\n",
       "      <td>505</td>\n",
       "      <td>503</td>\n",
       "      <td>505</td>\n",
       "      <td>504</td>\n",
       "      <td>499</td>\n",
       "      <td>505</td>\n",
       "    </tr>\n",
       "    <tr>\n",
       "      <th>all</th>\n",
       "      <td>652</td>\n",
       "      <td>652</td>\n",
       "      <td>652</td>\n",
       "      <td>326</td>\n",
       "      <td>652</td>\n",
       "      <td>652</td>\n",
       "      <td>652</td>\n",
       "      <td>649</td>\n",
       "      <td>651</td>\n",
       "      <td>652</td>\n",
       "      <td>652</td>\n",
       "      <td>652</td>\n",
       "    </tr>\n",
       "  </tbody>\n",
       "</table>\n",
       "</div>"
      ],
      "text/plain": [
       "       start_date  end_date  pollster  sponsor  sample_size  population  \\\n",
       "party                                                                     \n",
       "D             505       505       505      240          501         505   \n",
       "I             475       475       475      233          470         475   \n",
       "R             505       505       505      240          501         505   \n",
       "all           652       652       652      326          652         652   \n",
       "\n",
       "       subject  tracking  text  approve  disapprove  url  \n",
       "party                                                     \n",
       "D          505       503   505      504         499  505  \n",
       "I          475       475   475      474         472  475  \n",
       "R          505       503   505      504         499  505  \n",
       "all        652       649   651      652         652  652  "
      ]
     },
     "execution_count": 14,
     "metadata": {},
     "output_type": "execute_result"
    }
   ],
   "source": [
    "p"
   ]
  },
  {
   "cell_type": "code",
   "execution_count": 15,
   "metadata": {},
   "outputs": [
    {
     "data": {
      "text/plain": [
       "party\n",
       "D      505\n",
       "I      475\n",
       "R      505\n",
       "all    652\n",
       "Name: start_date, dtype: int64"
      ]
     },
     "execution_count": 15,
     "metadata": {},
     "output_type": "execute_result"
    }
   ],
   "source": [
    "p.start_date"
   ]
  },
  {
   "cell_type": "code",
   "execution_count": 16,
   "metadata": {},
   "outputs": [
    {
     "data": {
      "image/png": "[encoded data removed]",
      "text/plain": [
       "<Figure size 432x288 with 1 Axes>"
      ]
     },
     "metadata": {
      "needs_background": "light"
     },
     "output_type": "display_data"
    }
   ],
   "source": [
    "#Number who approved the handling of Covid 19 by Donald Trump\n",
    "#as per party affiliation\n",
    "party=['D','I','R','all']\n",
    "plt.bar(party,p.approve)\n",
    "plt.show()"
   ]
  },
  {
   "cell_type": "code",
   "execution_count": 17,
   "metadata": {},
   "outputs": [
    {
     "data": {
      "image/png": "[encoded data removed]",
      "text/plain": [
       "<Figure size 432x288 with 1 Axes>"
      ]
     },
     "metadata": {
      "needs_background": "light"
     },
     "output_type": "display_data"
    }
   ],
   "source": [
    "#Number who disapproved the handling of Covid 19 by Donald Trump\n",
    "#as per party affiliation\n",
    "party=['D','I','R','all']\n",
    "plt.bar(party,p.disapprove)\n",
    "plt.show()"
   ]
  },
  {
   "cell_type": "markdown",
   "metadata": {},
   "source": [
    "25 Dec 2020 To be continued ..."
   ]
  },
  {
   "cell_type": "code",
   "execution_count": 18,
   "metadata": {},
   "outputs": [
    {
     "data": {
      "text/plain": [
       "<seaborn.axisgrid.FacetGrid at 0x22e1701a400>"
      ]
     },
     "execution_count": 18,
     "metadata": {},
     "output_type": "execute_result"
    },
    {
     "data": {
      "image/png": "[encoded data removed]",
      "text/plain": [
       "<Figure size 360x360 with 1 Axes>"
      ]
     },
     "metadata": {
      "needs_background": "light"
     },
     "output_type": "display_data"
    }
   ],
   "source": [
    "#In terms of population a is for adults, rv for registered voters, lv for likely voters\n",
    "#This graph shows the approval rating as per the 3 population categories\n",
    "sns.catplot(x='population',y='approve',data=covidf)"
   ]
  },
  {
   "cell_type": "code",
   "execution_count": 19,
   "metadata": {},
   "outputs": [
    {
     "data": {
      "text/plain": [
       "<seaborn.axisgrid.FacetGrid at 0x22e170b99e8>"
      ]
     },
     "execution_count": 19,
     "metadata": {},
     "output_type": "execute_result"
    },
    {
     "data": {
      "image/png": "[encoded data removed]",
      "text/plain": [
       "<Figure size 360x360 with 1 Axes>"
      ]
     },
     "metadata": {
      "needs_background": "light"
     },
     "output_type": "display_data"
    }
   ],
   "source": [
    "#population who disapproved.\n",
    "sns.catplot(x='population',y='disapprove',data=covidf)"
   ]
  },
  {
   "cell_type": "code",
   "execution_count": 52,
   "metadata": {},
   "outputs": [
    {
     "data": {
      "text/plain": [
       "<seaborn.axisgrid.FacetGrid at 0x22e179c5eb8>"
      ]
     },
     "execution_count": 52,
     "metadata": {},
     "output_type": "execute_result"
    },
    {
     "data": {
      "image/png": "[encoded data removed]",
      "text/plain": [
       "<Figure size 360x360 with 1 Axes>"
      ]
     },
     "metadata": {
      "needs_background": "light"
     },
     "output_type": "display_data"
    }
   ],
   "source": [
    "#This whiskers plot indicates the quartiles (the 2nd quartile being the mean), \n",
    "#the outliners, the minimum and the maximum values.  It also indicates how spread\n",
    "#the responses are within each population.  The adults and registered voters have\n",
    "#spreads that are very similar and comparatively wide whereas the likely voters have a very tight spread.\n",
    "sns.catplot(x='population',y='approve',data=covidf,kind='box')"
   ]
  },
  {
   "cell_type": "code",
   "execution_count": 48,
   "metadata": {},
   "outputs": [],
   "source": [
    "#This creates a neutral column by subtracting the sum of approve and disapprove from 100%\n",
    "covidf['neutral']=100-(covidf.approve+covidf.disapprove)"
   ]
  },
  {
   "cell_type": "code",
   "execution_count": 51,
   "metadata": {},
   "outputs": [
    {
     "data": {
      "text/plain": [
       "<matplotlib.axes._subplots.AxesSubplot at 0x22e179d78d0>"
      ]
     },
     "execution_count": 51,
     "metadata": {},
     "output_type": "execute_result"
    },
    {
     "data": {
      "image/png": "[encoded data removed]",
      "text/plain": [
       "<Figure size 432x288 with 1 Axes>"
      ]
     },
     "metadata": {
      "needs_background": "light"
     },
     "output_type": "display_data"
    }
   ],
   "source": [
    "#This is a rough strend of approval vs disapproval ratings.  It shows that they are\n",
    "#complimentary except in the middle values where there is some divergence.\n",
    "#The neutral is shown in green\n",
    "covidf.plot(x='start_date',y=['approve','disapprove','neutral'],marker='o',linestyle='')"
   ]
  },
  {
   "cell_type": "code",
   "execution_count": 41,
   "metadata": {},
   "outputs": [],
   "source": [
    "#I here subtract disapproved score from the approved and took\n",
    "#a percentage to visualise the comparative approval in the polls.\n",
    "covidf['difference']=(covidf.approve-covidf.disapprove)"
   ]
  },
  {
   "cell_type": "code",
   "execution_count": 42,
   "metadata": {},
   "outputs": [
    {
     "data": {
      "text/plain": [
       "<matplotlib.axes._subplots.AxesSubplot at 0x22e17422a90>"
      ]
     },
     "execution_count": 42,
     "metadata": {},
     "output_type": "execute_result"
    },
    {
     "data": {
      "image/png": "[encoded data removed]",
      "text/plain": [
       "<Figure size 432x288 with 1 Axes>"
      ]
     },
     "metadata": {
      "needs_background": "light"
     },
     "output_type": "display_data"
    }
   ],
   "source": [
    "#Plotting the rating difference (approve-disapprove) below\n",
    "#confirms the above result that approval and disapproval mostly\n",
    "#complement each other\n",
    "covidf.plot(x='start_date',y='difference',marker='o',linestyle='',color='purple')"
   ]
  },
  {
   "cell_type": "code",
   "execution_count": 50,
   "metadata": {},
   "outputs": [
    {
     "data": {
      "text/html": [
       "<div>\n",
       "<style scoped>\n",
       "    .dataframe tbody tr th:only-of-type {\n",
       "        vertical-align: middle;\n",
       "    }\n",
       "\n",
       "    .dataframe tbody tr th {\n",
       "        vertical-align: top;\n",
       "    }\n",
       "\n",
       "    .dataframe thead th {\n",
       "        text-align: right;\n",
       "    }\n",
       "</style>\n",
       "<table border=\"1\" class=\"dataframe\">\n",
       "  <thead>\n",
       "    <tr style=\"text-align: right;\">\n",
       "      <th></th>\n",
       "      <th>start_date</th>\n",
       "      <th>end_date</th>\n",
       "      <th>pollster</th>\n",
       "      <th>sponsor</th>\n",
       "      <th>sample_size</th>\n",
       "      <th>population</th>\n",
       "      <th>party</th>\n",
       "      <th>subject</th>\n",
       "      <th>tracking</th>\n",
       "      <th>text</th>\n",
       "      <th>approve</th>\n",
       "      <th>disapprove</th>\n",
       "      <th>url</th>\n",
       "      <th>difference</th>\n",
       "      <th>neutral</th>\n",
       "    </tr>\n",
       "  </thead>\n",
       "  <tbody>\n",
       "    <tr>\n",
       "      <th>0</th>\n",
       "      <td>2020-02-02</td>\n",
       "      <td>2020-02-04</td>\n",
       "      <td>YouGov</td>\n",
       "      <td>Economist</td>\n",
       "      <td>1500.0</td>\n",
       "      <td>a</td>\n",
       "      <td>all</td>\n",
       "      <td>Trump</td>\n",
       "      <td>False</td>\n",
       "      <td>Do you approve or disapprove of Donald Trump’s...</td>\n",
       "      <td>42.0</td>\n",
       "      <td>29.0</td>\n",
       "      <td>https://d25d2506sfb94s.cloudfront.net/cumulus_...</td>\n",
       "      <td>13.0</td>\n",
       "      <td>29.0</td>\n",
       "    </tr>\n",
       "    <tr>\n",
       "      <th>1</th>\n",
       "      <td>2020-02-02</td>\n",
       "      <td>2020-02-04</td>\n",
       "      <td>YouGov</td>\n",
       "      <td>Economist</td>\n",
       "      <td>376.0</td>\n",
       "      <td>a</td>\n",
       "      <td>R</td>\n",
       "      <td>Trump</td>\n",
       "      <td>False</td>\n",
       "      <td>Do you approve or disapprove of Donald Trump’s...</td>\n",
       "      <td>75.0</td>\n",
       "      <td>6.0</td>\n",
       "      <td>https://d25d2506sfb94s.cloudfront.net/cumulus_...</td>\n",
       "      <td>69.0</td>\n",
       "      <td>19.0</td>\n",
       "    </tr>\n",
       "  </tbody>\n",
       "</table>\n",
       "</div>"
      ],
      "text/plain": [
       "   start_date    end_date pollster    sponsor  sample_size population party  \\\n",
       "0  2020-02-02  2020-02-04   YouGov  Economist       1500.0          a   all   \n",
       "1  2020-02-02  2020-02-04   YouGov  Economist        376.0          a     R   \n",
       "\n",
       "  subject tracking                                               text  \\\n",
       "0   Trump    False  Do you approve or disapprove of Donald Trump’s...   \n",
       "1   Trump    False  Do you approve or disapprove of Donald Trump’s...   \n",
       "\n",
       "   approve  disapprove                                                url  \\\n",
       "0     42.0        29.0  https://d25d2506sfb94s.cloudfront.net/cumulus_...   \n",
       "1     75.0         6.0  https://d25d2506sfb94s.cloudfront.net/cumulus_...   \n",
       "\n",
       "   difference  neutral  \n",
       "0        13.0     29.0  \n",
       "1        69.0     19.0  "
      ]
     },
     "execution_count": 50,
     "metadata": {},
     "output_type": "execute_result"
    }
   ],
   "source": [
    "covidf.head(2)"
   ]
  },
  {
   "cell_type": "code",
   "execution_count": 43,
   "metadata": {},
   "outputs": [
    {
     "data": {
      "text/plain": [
       "'2020-12-15'"
      ]
     },
     "execution_count": 43,
     "metadata": {},
     "output_type": "execute_result"
    }
   ],
   "source": [
    "covidf['start_date'].max()"
   ]
  },
  {
   "cell_type": "code",
   "execution_count": 26,
   "metadata": {},
   "outputs": [
    {
     "name": "stdout",
     "output_type": "stream",
     "text": [
      "2134\n",
      "2136\n"
     ]
    }
   ],
   "source": [
    "# Set row count and xlimit list\n",
    "row_in = 0\n",
    "xlimit = []\n",
    "\n",
    "# Cycle through dates until 2012-10 is found, then print row index\n",
    "for date in covidf['start_date']:\n",
    "    if date[0:10] == '2020-12-15':\n",
    "        xlimit.append(row_in)\n",
    "        row_in +=1\n",
    "    else:\n",
    "        row_in += 1\n",
    "        \n",
    "print(min(xlimit))\n",
    "print(max(xlimit))"
   ]
  },
  {
   "cell_type": "code",
   "execution_count": 27,
   "metadata": {},
   "outputs": [
    {
     "data": {
      "image/png": "[encoded data removed]",
      "text/plain": [
       "<Figure size 864x288 with 1 Axes>"
      ]
     },
     "metadata": {
      "needs_background": "light"
     },
     "output_type": "display_data"
    }
   ],
   "source": [
    "# This graph shows that the approval rating rose from a difference of little below 0 (about -8) to about 50 by the\n",
    "#middle of the polling at which point, it dropped at a faster rate to about 70 at the end of the polling\n",
    "fig = covidf.plot('start_date','difference',figsize=(12,4),marker='o',linestyle='-',color='purple',xlim=(2134,2136))"
   ]
  },
  {
   "cell_type": "code",
   "execution_count": 28,
   "metadata": {},
   "outputs": [
    {
     "data": {
      "text/plain": [
       "'2020-02-02'"
      ]
     },
     "execution_count": 28,
     "metadata": {},
     "output_type": "execute_result"
    }
   ],
   "source": [
    "covidf['start_date'].min()"
   ]
  },
  {
   "cell_type": "code",
   "execution_count": 29,
   "metadata": {},
   "outputs": [
    {
     "data": {
      "text/plain": [
       "population\n",
       "a     43.488611\n",
       "lv    43.787604\n",
       "rv    43.535479\n",
       "Name: approve, dtype: float64"
      ]
     },
     "execution_count": 29,
     "metadata": {},
     "output_type": "execute_result"
    }
   ],
   "source": [
    "pop_approve= covidf.groupby('population').mean()['approve']\n",
    "pop_approve"
   ]
  },
  {
   "cell_type": "code",
   "execution_count": 30,
   "metadata": {},
   "outputs": [
    {
     "data": {
      "text/plain": [
       "<matplotlib.axes._subplots.AxesSubplot at 0x22e173591d0>"
      ]
     },
     "execution_count": 30,
     "metadata": {},
     "output_type": "execute_result"
    },
    {
     "data": {
      "image/png": "[encoded data removed]",
      "text/plain": [
       "<Figure size 432x288 with 1 Axes>"
      ]
     },
     "metadata": {
      "needs_background": "light"
     },
     "output_type": "display_data"
    }
   ],
   "source": [
    "#below shows the average approval rate per population type is\n",
    "#about the same\n",
    "pop_approve.plot(kind='bar')"
   ]
  },
  {
   "cell_type": "code",
   "execution_count": 31,
   "metadata": {},
   "outputs": [
    {
     "data": {
      "text/plain": [
       "party\n",
       "D      12.773690\n",
       "I      36.703165\n",
       "R      82.229980\n",
       "all    42.311365\n",
       "Name: approve, dtype: float64"
      ]
     },
     "execution_count": 31,
     "metadata": {},
     "output_type": "execute_result"
    }
   ],
   "source": [
    "party_approve= covidf.groupby('party').mean()['approve']\n",
    "party_approve"
   ]
  },
  {
   "cell_type": "code",
   "execution_count": 32,
   "metadata": {},
   "outputs": [
    {
     "data": {
      "text/plain": [
       "<matplotlib.axes._subplots.AxesSubplot at 0x22e1700f278>"
      ]
     },
     "execution_count": 32,
     "metadata": {},
     "output_type": "execute_result"
    },
    {
     "data": {
      "image/png": "[encoded data removed]",
      "text/plain": [
       "<Figure size 432x288 with 1 Axes>"
      ]
     },
     "metadata": {
      "needs_background": "light"
     },
     "output_type": "display_data"
    }
   ],
   "source": [
    "#below shows clear difference in the approval rating per party affiliation.\n",
    "party_approve.plot(kind='bar')"
   ]
  },
  {
   "cell_type": "markdown",
   "metadata": {},
   "source": [
    "This part of the project will answer the question of how concerned Americans are about aspects of the outbreak such as infection and economic impact."
   ]
  },
  {
   "cell_type": "code",
   "execution_count": 33,
   "metadata": {},
   "outputs": [],
   "source": [
    "#After downloarding the data, this is to read it into a data from which I call covdf\n",
    "covidfc=pd.read_csv('covid_concern_polls.csv')"
   ]
  },
  {
   "cell_type": "code",
   "execution_count": 34,
   "metadata": {},
   "outputs": [
    {
     "name": "stdout",
     "output_type": "stream",
     "text": [
      "<class 'pandas.core.frame.DataFrame'>\n",
      "RangeIndex: 618 entries, 0 to 617\n",
      "Data columns (total 15 columns):\n",
      "start_date     618 non-null object\n",
      "end_date       618 non-null object\n",
      "pollster       618 non-null object\n",
      "sponsor        238 non-null object\n",
      "sample_size    618 non-null int64\n",
      "population     618 non-null object\n",
      "party          618 non-null object\n",
      "subject        618 non-null object\n",
      "tracking       618 non-null bool\n",
      "text           618 non-null object\n",
      "very           618 non-null float64\n",
      "somewhat       618 non-null float64\n",
      "not_very       618 non-null float64\n",
      "not_at_all     615 non-null float64\n",
      "url            618 non-null object\n",
      "dtypes: bool(1), float64(4), int64(1), object(9)\n",
      "memory usage: 68.3+ KB\n"
     ]
    }
   ],
   "source": [
    "covidfc.info()"
   ]
  },
  {
   "cell_type": "code",
   "execution_count": 35,
   "metadata": {},
   "outputs": [
    {
     "data": {
      "text/html": [
       "<div>\n",
       "<style scoped>\n",
       "    .dataframe tbody tr th:only-of-type {\n",
       "        vertical-align: middle;\n",
       "    }\n",
       "\n",
       "    .dataframe tbody tr th {\n",
       "        vertical-align: top;\n",
       "    }\n",
       "\n",
       "    .dataframe thead th {\n",
       "        text-align: right;\n",
       "    }\n",
       "</style>\n",
       "<table border=\"1\" class=\"dataframe\">\n",
       "  <thead>\n",
       "    <tr style=\"text-align: right;\">\n",
       "      <th></th>\n",
       "      <th>start_date</th>\n",
       "      <th>end_date</th>\n",
       "      <th>pollster</th>\n",
       "      <th>sponsor</th>\n",
       "      <th>sample_size</th>\n",
       "      <th>population</th>\n",
       "      <th>party</th>\n",
       "      <th>subject</th>\n",
       "      <th>tracking</th>\n",
       "      <th>text</th>\n",
       "      <th>very</th>\n",
       "      <th>somewhat</th>\n",
       "      <th>not_very</th>\n",
       "      <th>not_at_all</th>\n",
       "      <th>url</th>\n",
       "    </tr>\n",
       "  </thead>\n",
       "  <tbody>\n",
       "    <tr>\n",
       "      <th>0</th>\n",
       "      <td>2020-01-27</td>\n",
       "      <td>2020-01-29</td>\n",
       "      <td>Morning Consult</td>\n",
       "      <td>NaN</td>\n",
       "      <td>2202</td>\n",
       "      <td>a</td>\n",
       "      <td>all</td>\n",
       "      <td>concern-economy</td>\n",
       "      <td>False</td>\n",
       "      <td>How concerned are you that the coronavirus wil...</td>\n",
       "      <td>19.0</td>\n",
       "      <td>33.0</td>\n",
       "      <td>23.0</td>\n",
       "      <td>11.0</td>\n",
       "      <td>https://morningconsult.com/wp-content/uploads/...</td>\n",
       "    </tr>\n",
       "    <tr>\n",
       "      <th>1</th>\n",
       "      <td>2020-01-31</td>\n",
       "      <td>2020-02-02</td>\n",
       "      <td>Morning Consult</td>\n",
       "      <td>NaN</td>\n",
       "      <td>2202</td>\n",
       "      <td>a</td>\n",
       "      <td>all</td>\n",
       "      <td>concern-economy</td>\n",
       "      <td>False</td>\n",
       "      <td>How concerned are you that the coronavirus wil...</td>\n",
       "      <td>26.0</td>\n",
       "      <td>32.0</td>\n",
       "      <td>25.0</td>\n",
       "      <td>7.0</td>\n",
       "      <td>https://morningconsult.com/wp-content/uploads/...</td>\n",
       "    </tr>\n",
       "  </tbody>\n",
       "</table>\n",
       "</div>"
      ],
      "text/plain": [
       "   start_date    end_date         pollster sponsor  sample_size population  \\\n",
       "0  2020-01-27  2020-01-29  Morning Consult     NaN         2202          a   \n",
       "1  2020-01-31  2020-02-02  Morning Consult     NaN         2202          a   \n",
       "\n",
       "  party          subject  tracking  \\\n",
       "0   all  concern-economy     False   \n",
       "1   all  concern-economy     False   \n",
       "\n",
       "                                                text  very  somewhat  \\\n",
       "0  How concerned are you that the coronavirus wil...  19.0      33.0   \n",
       "1  How concerned are you that the coronavirus wil...  26.0      32.0   \n",
       "\n",
       "   not_very  not_at_all                                                url  \n",
       "0      23.0        11.0  https://morningconsult.com/wp-content/uploads/...  \n",
       "1      25.0         7.0  https://morningconsult.com/wp-content/uploads/...  "
      ]
     },
     "execution_count": 35,
     "metadata": {},
     "output_type": "execute_result"
    }
   ],
   "source": [
    "covidfc.head(2)"
   ]
  },
  {
   "cell_type": "code",
   "execution_count": 36,
   "metadata": {},
   "outputs": [
    {
     "data": {
      "text/html": [
       "<div>\n",
       "<style scoped>\n",
       "    .dataframe tbody tr th:only-of-type {\n",
       "        vertical-align: middle;\n",
       "    }\n",
       "\n",
       "    .dataframe tbody tr th {\n",
       "        vertical-align: top;\n",
       "    }\n",
       "\n",
       "    .dataframe thead th {\n",
       "        text-align: right;\n",
       "    }\n",
       "</style>\n",
       "<table border=\"1\" class=\"dataframe\">\n",
       "  <thead>\n",
       "    <tr style=\"text-align: right;\">\n",
       "      <th></th>\n",
       "      <th>sample_size</th>\n",
       "      <th>very</th>\n",
       "      <th>somewhat</th>\n",
       "      <th>not_very</th>\n",
       "      <th>not_at_all</th>\n",
       "    </tr>\n",
       "  </thead>\n",
       "  <tbody>\n",
       "    <tr>\n",
       "      <th>count</th>\n",
       "      <td>618.000000</td>\n",
       "      <td>618.000000</td>\n",
       "      <td>618.000000</td>\n",
       "      <td>618.000000</td>\n",
       "      <td>615.000000</td>\n",
       "    </tr>\n",
       "    <tr>\n",
       "      <th>mean</th>\n",
       "      <td>2929.983819</td>\n",
       "      <td>37.890728</td>\n",
       "      <td>34.826990</td>\n",
       "      <td>17.299871</td>\n",
       "      <td>8.518992</td>\n",
       "    </tr>\n",
       "    <tr>\n",
       "      <th>std</th>\n",
       "      <td>8880.044539</td>\n",
       "      <td>13.935526</td>\n",
       "      <td>5.146127</td>\n",
       "      <td>7.900785</td>\n",
       "      <td>4.889708</td>\n",
       "    </tr>\n",
       "    <tr>\n",
       "      <th>min</th>\n",
       "      <td>502.000000</td>\n",
       "      <td>8.000000</td>\n",
       "      <td>19.000000</td>\n",
       "      <td>2.000000</td>\n",
       "      <td>1.000000</td>\n",
       "    </tr>\n",
       "    <tr>\n",
       "      <th>25%</th>\n",
       "      <td>1002.000000</td>\n",
       "      <td>27.650000</td>\n",
       "      <td>32.000000</td>\n",
       "      <td>11.000000</td>\n",
       "      <td>4.000000</td>\n",
       "    </tr>\n",
       "    <tr>\n",
       "      <th>50%</th>\n",
       "      <td>1022.000000</td>\n",
       "      <td>36.000000</td>\n",
       "      <td>35.000000</td>\n",
       "      <td>17.000000</td>\n",
       "      <td>8.000000</td>\n",
       "    </tr>\n",
       "    <tr>\n",
       "      <th>75%</th>\n",
       "      <td>1960.000000</td>\n",
       "      <td>47.000000</td>\n",
       "      <td>38.000000</td>\n",
       "      <td>23.000000</td>\n",
       "      <td>12.000000</td>\n",
       "    </tr>\n",
       "    <tr>\n",
       "      <th>max</th>\n",
       "      <td>91214.000000</td>\n",
       "      <td>73.000000</td>\n",
       "      <td>48.000000</td>\n",
       "      <td>43.000000</td>\n",
       "      <td>29.000000</td>\n",
       "    </tr>\n",
       "  </tbody>\n",
       "</table>\n",
       "</div>"
      ],
      "text/plain": [
       "        sample_size        very    somewhat    not_very  not_at_all\n",
       "count    618.000000  618.000000  618.000000  618.000000  615.000000\n",
       "mean    2929.983819   37.890728   34.826990   17.299871    8.518992\n",
       "std     8880.044539   13.935526    5.146127    7.900785    4.889708\n",
       "min      502.000000    8.000000   19.000000    2.000000    1.000000\n",
       "25%     1002.000000   27.650000   32.000000   11.000000    4.000000\n",
       "50%     1022.000000   36.000000   35.000000   17.000000    8.000000\n",
       "75%     1960.000000   47.000000   38.000000   23.000000   12.000000\n",
       "max    91214.000000   73.000000   48.000000   43.000000   29.000000"
      ]
     },
     "execution_count": 36,
     "metadata": {},
     "output_type": "execute_result"
    }
   ],
   "source": [
    "covidfc.describe()"
   ]
  },
  {
   "cell_type": "code",
   "execution_count": 37,
   "metadata": {},
   "outputs": [
    {
     "data": {
      "text/plain": [
       "<matplotlib.axes._subplots.AxesSubplot at 0x22e179f5630>"
      ]
     },
     "execution_count": 37,
     "metadata": {},
     "output_type": "execute_result"
    },
    {
     "data": {
      "image/png": "[encoded data removed]",
      "text/plain": [
       "<Figure size 432x288 with 1 Axes>"
      ]
     },
     "metadata": {
      "needs_background": "light"
     },
     "output_type": "display_data"
    }
   ],
   "source": [
    "#This code shows the average feeling per each of the concern dimensions.\n",
    "concern=covidfc[['very','somewhat','not_very','not_at_all']].mean()\n",
    "#This code visualises in a bar chart\n",
    "concern.plot(kind ='bar')"
   ]
  },
  {
   "cell_type": "markdown",
   "metadata": {},
   "source": [
    "Great! Thanks for going through this.  My next project will be conneting to a database and sending queries to a database from pandas dataframe.  See you then.\n",
    "29 December 2020"
   ]
  },
  {
   "cell_type": "code",
   "execution_count": null,
   "metadata": {},
   "outputs": [],
   "source": []
  }
 ],
 "metadata": {
  "kernelspec": {
   "display_name": "Python 3",
   "language": "python",
   "name": "python3"
  },
  "language_info": {
   "codemirror_mode": {
    "name": "ipython",
    "version": 3
   },
   "file_extension": ".py",
   "mimetype": "text/x-python",
   "name": "python",
   "nbconvert_exporter": "python",
   "pygments_lexer": "ipython3",
   "version": "3.7.1"
  }
 },
 "nbformat": 4,
 "nbformat_minor": 2
}
