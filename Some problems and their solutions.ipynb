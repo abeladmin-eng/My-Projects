{
 "cells": [
  {
   "cell_type": "markdown",
   "metadata": {},
   "source": [
    "Question 1\n",
    "Write a program that asks the user how many Fibonacci numbers to generate and then generates them.\n",
    "Take this opportunity to think about how you can use functions. Make sure to ask the user to enter the\n",
    "number of numbers in the sequence to generate (Hint: The Fibonacci sequence is a sequence of\n",
    "numbers where the next number in the sequence is the sum of the previous two numbers in the\n",
    "sequence. The sequence looks like this: 1, 1, 2, 3, 5, 8, 13, …)\n"
   ]
  },
  {
   "cell_type": "code",
   "execution_count": 4,
   "metadata": {},
   "outputs": [],
   "source": [
    "def tryme():\n",
    "    x=0\n",
    "    y=1\n",
    "    list=[]\n",
    "    h=input('How many?')\n",
    "    m=int(h)\n",
    "    for i in range(1,m):\n",
    "        z=x+y\n",
    "        x=y\n",
    "        y=z\n",
    "        list.append(x)\n",
    "    print(list)\n",
    "    tryme()"
   ]
  },
  {
   "cell_type": "markdown",
   "metadata": {},
   "source": [
    "Question 2\n",
    "Write a program (using functions!) that asks the user for a long string containing multiple words. Print\n",
    "back to the user the same string, except with the words in backwards order. For example, say I type\n",
    "the string:\n",
    " My name is Michele\n",
    "Then I would see the string:\n",
    " Michele is name My\n",
    "shown back to me.\n"
   ]
  },
  {
   "cell_type": "code",
   "execution_count": 2,
   "metadata": {},
   "outputs": [],
   "source": [
    "def backw(string):\n",
    "    return  ' '.join(string.split()[::-1])"
   ]
  },
  {
   "cell_type": "code",
   "execution_count": 3,
   "metadata": {},
   "outputs": [
    {
     "data": {
      "text/plain": [
       "'happy are We'"
      ]
     },
     "execution_count": 3,
     "metadata": {},
     "output_type": "execute_result"
    }
   ],
   "source": [
    "backw('We are happy')"
   ]
  },
  {
   "cell_type": "markdown",
   "metadata": {},
   "source": [
    "Question 3\n",
    "Ask the user for a string and print out whether this string is a palindrome or not. (A palindrome is a\n",
    "string that reads the same forwards and backwards.)"
   ]
  },
  {
   "cell_type": "code",
   "execution_count": 4,
   "metadata": {},
   "outputs": [],
   "source": [
    "def palin(drome):\n",
    "    print(drome[::-1])\n",
    "    if drome == drome[::-1]:\n",
    "        return \"Yupee!  It's a palindrome\"\n",
    "    else:\n",
    "        return \"Sorry, it's not a palindrome\""
   ]
  },
  {
   "cell_type": "code",
   "execution_count": 5,
   "metadata": {},
   "outputs": [
    {
     "name": "stdout",
     "output_type": "stream",
     "text": [
      "abba\n"
     ]
    },
    {
     "data": {
      "text/plain": [
       "\"Yupee!  It's a palindrome\""
      ]
     },
     "execution_count": 5,
     "metadata": {},
     "output_type": "execute_result"
    }
   ],
   "source": [
    "palin('abba')"
   ]
  },
  {
   "cell_type": "code",
   "execution_count": 6,
   "metadata": {},
   "outputs": [
    {
     "name": "stdout",
     "output_type": "stream",
     "text": [
      "abba\n"
     ]
    },
    {
     "data": {
      "text/plain": [
       "\"Yupee!  It's a palindrome\""
      ]
     },
     "execution_count": 6,
     "metadata": {},
     "output_type": "execute_result"
    }
   ],
   "source": [
    "palin('abba')"
   ]
  },
  {
   "cell_type": "markdown",
   "metadata": {},
   "source": [
    "Question 4\n",
    "For this exercise, we will keep track of when our friend’s birthdays are, and be able to find that\n",
    "information based on their name. Create a dictionary (in your file) of names and birthdays. When you\n",
    "run your program, it should ask the user to enter a name, and return the birthday of that person back\n",
    "to them. The interaction should look something like this:"
   ]
  },
  {
   "cell_type": "code",
   "execution_count": 7,
   "metadata": {},
   "outputs": [],
   "source": [
    "#>>> Welcome to the birthday dictionary. We know the birthdays of:\n",
    "#Einstein\n",
    "#Benjamin Franklin\n",
    "#Ada Lovelace\n",
    "#>>> Who's birthday do you want to look up?\n",
    "#Benjamin Franklin\n",
    "#>>> Benjamin Franklin's birthday is 01/17/1706."
   ]
  },
  {
   "cell_type": "code",
   "execution_count": 8,
   "metadata": {},
   "outputs": [
    {
     "name": "stdout",
     "output_type": "stream",
     "text": [
      "Welcome to the birthday dictionary.  We know the birthdays of:\n",
      "Einstein\n",
      "Benjamin Franklin\n",
      "Ada LoveLace\n",
      "Whose birthday do you want to look up?Benjamin Franklin\n"
     ]
    },
    {
     "data": {
      "text/plain": [
       "\"Benjamin Franklin's birthday is 1 Jun 1950\""
      ]
     },
     "execution_count": 8,
     "metadata": {},
     "output_type": "execute_result"
    }
   ],
   "source": [
    "def bday():\n",
    "    print('Welcome to the birthday dictionary.  We know the birthdays of:')\n",
    "    print('Einstein')\n",
    "    print('Benjamin Franklin')\n",
    "    print('Ada LoveLace')\n",
    "    daydic = {'Einstein':'10 Jan 1956','Benjamin Franklin':'1 Jun 1950','Ada Lovelace':'30 July 1966'}\n",
    "    name=input('Whose birthday do you want to look up?')\n",
    "    return f\"{name}'s birthday is {daydic[name]}\"\n",
    "bday()"
   ]
  },
  {
   "cell_type": "markdown",
   "metadata": {},
   "source": [
    "Question 5\n",
    "Use the BeautifulSoup and requests Python packages to print out a list of all the article titles on the New\n",
    "York Times homepage."
   ]
  },
  {
   "cell_type": "code",
   "execution_count": 14,
   "metadata": {},
   "outputs": [],
   "source": [
    "m = {'Einstein':'10 Jan 1956','Benjamin Franklin':'1 Jun 1950','Ada Lovelace':'30 July 1966'}"
   ]
  },
  {
   "cell_type": "code",
   "execution_count": 16,
   "metadata": {},
   "outputs": [
    {
     "data": {
      "text/plain": [
       "'10 Jan 1956'"
      ]
     },
     "execution_count": 16,
     "metadata": {},
     "output_type": "execute_result"
    }
   ],
   "source": [
    "m['Einstein']"
   ]
  },
  {
   "cell_type": "code",
   "execution_count": null,
   "metadata": {},
   "outputs": [],
   "source": [
    "g= \"Abel Usoro\""
   ]
  },
  {
   "cell_type": "code",
   "execution_count": null,
   "metadata": {},
   "outputs": [],
   "source": [
    "g.split()"
   ]
  },
  {
   "cell_type": "code",
   "execution_count": null,
   "metadata": {},
   "outputs": [],
   "source": [
    "''.join(g.split())"
   ]
  },
  {
   "cell_type": "code",
   "execution_count": null,
   "metadata": {},
   "outputs": [],
   "source": [
    "j ='I am Abel'"
   ]
  },
  {
   "cell_type": "code",
   "execution_count": null,
   "metadata": {},
   "outputs": [],
   "source": [
    "j"
   ]
  },
  {
   "cell_type": "code",
   "execution_count": null,
   "metadata": {},
   "outputs": [],
   "source": [
    "u=j.split()[::-1]"
   ]
  },
  {
   "cell_type": "code",
   "execution_count": null,
   "metadata": {},
   "outputs": [],
   "source": [
    "' '.join(u)"
   ]
  },
  {
   "cell_type": "code",
   "execution_count": null,
   "metadata": {},
   "outputs": [],
   "source": [
    "h={'Peter':['Uyo','Ibiakpan'],'Eno':'Ibesikpo'}"
   ]
  },
  {
   "cell_type": "code",
   "execution_count": null,
   "metadata": {},
   "outputs": [],
   "source": [
    "h['Peter']"
   ]
  },
  {
   "cell_type": "code",
   "execution_count": null,
   "metadata": {},
   "outputs": [],
   "source": [
    "h['Eno']"
   ]
  },
  {
   "cell_type": "code",
   "execution_count": 17,
   "metadata": {},
   "outputs": [
    {
     "data": {
      "text/plain": [
       "'C:\\\\Users\\\\abelu\\\\Google Drive\\\\My Python'"
      ]
     },
     "execution_count": 17,
     "metadata": {},
     "output_type": "execute_result"
    }
   ],
   "source": [
    "pwd"
   ]
  },
  {
   "cell_type": "code",
   "execution_count": 2,
   "metadata": {},
   "outputs": [],
   "source": [
    "import requests\n",
    "url= 'https://www.nytimes.com/'\n",
    "page=requests.get(url)"
   ]
  },
  {
   "cell_type": "code",
   "execution_count": 6,
   "metadata": {},
   "outputs": [],
   "source": [
    "import pprint"
   ]
  },
  {
   "cell_type": "code",
   "execution_count": 10,
   "metadata": {},
   "outputs": [
    {
     "name": "stdout",
     "output_type": "stream",
     "text": [
      "<Response [200]>\n"
     ]
    }
   ],
   "source": [
    "pprint.pprint(page)"
   ]
  },
  {
   "cell_type": "code",
   "execution_count": 11,
   "metadata": {},
   "outputs": [],
   "source": [
    "url='https://www.monster.com/jobs/search/?q=Data-Analyst&where=London'"
   ]
  },
  {
   "cell_type": "code",
   "execution_count": 12,
   "metadata": {},
   "outputs": [],
   "source": [
    "page=requests.get(url)"
   ]
  },
  {
   "cell_type": "code",
   "execution_count": 14,
   "metadata": {},
   "outputs": [
    {
     "name": "stdout",
     "output_type": "stream",
     "text": [
      "<Response [200]>\n"
     ]
    }
   ],
   "source": [
    "pprint.pprint(page)"
   ]
  },
  {
   "cell_type": "code",
   "execution_count": null,
   "metadata": {},
   "outputs": [],
   "source": []
  }
 ],
 "metadata": {
  "kernelspec": {
   "display_name": "Python 3",
   "language": "python",
   "name": "python3"
  },
  "language_info": {
   "codemirror_mode": {
    "name": "ipython",
    "version": 3
   },
   "file_extension": ".py",
   "mimetype": "text/x-python",
   "name": "python",
   "nbconvert_exporter": "python",
   "pygments_lexer": "ipython3",
   "version": "3.7.1"
  }
 },
 "nbformat": 4,
 "nbformat_minor": 2
}
